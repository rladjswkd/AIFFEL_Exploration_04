{
 "cells": [
  {
   "cell_type": "markdown",
   "metadata": {},
   "source": [
    "### 데이터 준비와 확인"
   ]
  },
  {
   "cell_type": "code",
   "execution_count": 1,
   "metadata": {},
   "outputs": [
    {
     "data": {
      "text/html": [
       "<div>\n",
       "<style scoped>\n",
       "    .dataframe tbody tr th:only-of-type {\n",
       "        vertical-align: middle;\n",
       "    }\n",
       "\n",
       "    .dataframe tbody tr th {\n",
       "        vertical-align: top;\n",
       "    }\n",
       "\n",
       "    .dataframe thead th {\n",
       "        text-align: right;\n",
       "    }\n",
       "</style>\n",
       "<table border=\"1\" class=\"dataframe\">\n",
       "  <thead>\n",
       "    <tr style=\"text-align: right;\">\n",
       "      <th></th>\n",
       "      <th>id</th>\n",
       "      <th>document</th>\n",
       "      <th>label</th>\n",
       "    </tr>\n",
       "  </thead>\n",
       "  <tbody>\n",
       "    <tr>\n",
       "      <th>0</th>\n",
       "      <td>9976970</td>\n",
       "      <td>아 더빙.. 진짜 짜증나네요 목소리</td>\n",
       "      <td>0</td>\n",
       "    </tr>\n",
       "    <tr>\n",
       "      <th>1</th>\n",
       "      <td>3819312</td>\n",
       "      <td>흠...포스터보고 초딩영화줄....오버연기조차 가볍지 않구나</td>\n",
       "      <td>1</td>\n",
       "    </tr>\n",
       "    <tr>\n",
       "      <th>2</th>\n",
       "      <td>10265843</td>\n",
       "      <td>너무재밓었다그래서보는것을추천한다</td>\n",
       "      <td>0</td>\n",
       "    </tr>\n",
       "    <tr>\n",
       "      <th>3</th>\n",
       "      <td>9045019</td>\n",
       "      <td>교도소 이야기구먼 ..솔직히 재미는 없다..평점 조정</td>\n",
       "      <td>0</td>\n",
       "    </tr>\n",
       "    <tr>\n",
       "      <th>4</th>\n",
       "      <td>6483659</td>\n",
       "      <td>사이몬페그의 익살스런 연기가 돋보였던 영화!스파이더맨에서 늙어보이기만 했던 커스틴 ...</td>\n",
       "      <td>1</td>\n",
       "    </tr>\n",
       "  </tbody>\n",
       "</table>\n",
       "</div>"
      ],
      "text/plain": [
       "         id                                           document  label\n",
       "0   9976970                                아 더빙.. 진짜 짜증나네요 목소리      0\n",
       "1   3819312                  흠...포스터보고 초딩영화줄....오버연기조차 가볍지 않구나      1\n",
       "2  10265843                                  너무재밓었다그래서보는것을추천한다      0\n",
       "3   9045019                      교도소 이야기구먼 ..솔직히 재미는 없다..평점 조정      0\n",
       "4   6483659  사이몬페그의 익살스런 연기가 돋보였던 영화!스파이더맨에서 늙어보이기만 했던 커스틴 ...      1"
      ]
     },
     "execution_count": 1,
     "metadata": {},
     "output_type": "execute_result"
    }
   ],
   "source": [
    "import pandas as pd\n",
    "import urllib.request\n",
    "%matplotlib inline\n",
    "import matplotlib.pyplot as plt\n",
    "import re\n",
    "from konlpy.tag import Okt\n",
    "from tensorflow import keras\n",
    "from tensorflow.keras.preprocessing.text import Tokenizer\n",
    "import numpy as np\n",
    "from tensorflow.keras.preprocessing.sequence import pad_sequences\n",
    "from collections import Counter\n",
    "import os\n",
    "from konlpy.tag import Mecab\n",
    "import gensim\n",
    "from gensim.models import KeyedVectors\n",
    "from gensim.models import Word2Vec\n",
    "from gensim.models.keyedvectors import Word2VecKeyedVectors\n",
    "from tensorflow.keras.initializers import Constant\n",
    "\n",
    "train_data = pd.read_table('~/aiffel/sentiment_classification/ratings_train.txt')\n",
    "test_data = pd.read_table('~/aiffel/sentiment_classification/ratings_test.txt')\n",
    "\n",
    "train_data.head()"
   ]
  },
  {
   "cell_type": "markdown",
   "metadata": {},
   "source": [
    "### 데이터 로더 구성\n",
    "- 데이터의 중복 제거\n",
    "- NaN 결측치 제거\n",
    "- 한국어 토크나이저로 토큰화\n",
    "- 불용어(Stopwords) 제거\n",
    "- 사전word_to_index 구성\n",
    "- 텍스트 스트링을 사전 인덱스 스트링으로 변환\n",
    "- X_train, y_train, X_test, y_test, word_to_index 리턴"
   ]
  },
  {
   "cell_type": "code",
   "execution_count": 2,
   "metadata": {},
   "outputs": [],
   "source": [
    "tokenizer = Mecab()\n",
    "stopwords = ['의','가','이','은','들','는','좀','잘','걍','과','도','를','으로','자','에','와','한','하다']\n",
    "\n",
    "def load_data(train_data, test_data, num_words=10000):\n",
    "    train_data.drop_duplicates(subset=['document'], inplace=True)\n",
    "    train_data = train_data.dropna(how = 'any') \n",
    "    test_data.drop_duplicates(subset=['document'], inplace=True)\n",
    "    test_data = test_data.dropna(how = 'any') \n",
    "\n",
    "    X_train = []\n",
    "    for sentence in train_data['document']:\n",
    "        temp_X = tokenizer.morphs(sentence) # 토큰화\n",
    "        temp_X = [word for word in temp_X if not word in stopwords] # 불용어 제거\n",
    "        X_train.append(temp_X)\n",
    "\n",
    "    X_test = []\n",
    "    for sentence in test_data['document']:\n",
    "        temp_X = tokenizer.morphs(sentence) # 토큰화\n",
    "        temp_X = [word for word in temp_X if not word in stopwords] # 불용어 제거\n",
    "        X_test.append(temp_X)\n",
    "\n",
    "    words = np.concatenate(X_train).tolist()\n",
    "    counter = Counter(words)\n",
    "    counter = counter.most_common(10000-4)\n",
    "    vocab = ['<PAD>', '<BOS>', '<UNK>', '<UNUSED>'] + [key for key, _ in counter]\n",
    "    word_to_index = {word:index for index, word in enumerate(vocab)}\n",
    "\n",
    "    def wordlist_to_indexlist(wordlist):\n",
    "        return [word_to_index[word] if word in word_to_index else word_to_index['<UNK>'] for word in wordlist]\n",
    "\n",
    "    X_train = list(map(wordlist_to_indexlist, X_train))\n",
    "    X_test = list(map(wordlist_to_indexlist, X_test))\n",
    "\n",
    "    return X_train, np.array(list(train_data['label'])), X_test, np.array(list(test_data['label'])), word_to_index\n",
    "\n",
    "X_train, y_train, X_test, y_test, word_to_index = load_data(train_data, test_data)\n",
    "index_to_word = {index:word for word, index in word_to_index.items()}"
   ]
  },
  {
   "cell_type": "code",
   "execution_count": 3,
   "metadata": {},
   "outputs": [],
   "source": [
    "def get_encoded_sentence(sentence, word_to_index):\n",
    "    return [word_to_index['<BOS>']]+[word_to_index[word] if word in word_to_index else word_to_index['<UNK>'] for word in sentence.split()]\n",
    "\n",
    "def get_encoded_sentences(sentences, word_to_index):\n",
    "    return [get_encoded_sentence(sentence, word_to_index) for sentence in sentences]\n",
    "\n",
    "def get_decoded_sentence(encoded_sentence, index_to_word):\n",
    "    return ' '.join(index_to_word[index] if index in index_to_word else '<UNK>' for index in encoded_sentence[1:])  #[1:]를 통해 <BOS>를 제외\n",
    "\n",
    "def get_decoded_sentences(encoded_sentences, index_to_word):\n",
    "    return [get_decoded_sentence(encoded_sentence, index_to_word) for encoded_sentence in encoded_sentences]"
   ]
  },
  {
   "cell_type": "markdown",
   "metadata": {},
   "source": [
    "### 모델구성을 위한 데이터 분석 및 가공\n",
    "\n",
    "- 데이터셋 내 문장 길이 분포\n",
    "- 적절한 최대 문장 길이 지정\n",
    "- keras.preprocessing.sequence.pad_sequences 을 활용한 패딩 추가"
   ]
  },
  {
   "cell_type": "code",
   "execution_count": 4,
   "metadata": {},
   "outputs": [
    {
     "name": "stdout",
     "output_type": "stream",
     "text": [
      "문장길이 평균 :  15.96938143432699\n",
      "문장길이 최대 :  116\n",
      "문장길이 표준편차 :  12.843571939469296\n",
      "pad_sequences maxlen :  41\n",
      "전체 문장의 0.9342988343341575%가 maxlen 설정값 이내에 포함됩니다. \n"
     ]
    }
   ],
   "source": [
    "total_data_text = list(X_train) + list(X_test)\n",
    "\n",
    "num_tokens = [len(tokens) for tokens in total_data_text]\n",
    "num_tokens = np.array(num_tokens)\n",
    "\n",
    "print('문장길이 평균 : ', np.mean(num_tokens))\n",
    "print('문장길이 최대 : ', np.max(num_tokens))\n",
    "print('문장길이 표준편차 : ', np.std(num_tokens))\n",
    "\n",
    "max_tokens = np.mean(num_tokens) + 2 * np.std(num_tokens)\n",
    "maxlen = int(max_tokens) # 최대 길이\n",
    "print('pad_sequences maxlen : ', maxlen)\n",
    "print('전체 문장의 {}%가 maxlen 설정값 이내에 포함됩니다. '.format(np.sum(num_tokens < max_tokens) / len(num_tokens)))\n",
    "\n",
    "# 패딩 추가\n",
    "# 가장 마지막 위치의 단어가 state에 가장 많은 영향을 미치므로 padding은 pre로 지정.\n",
    "X_train = keras.preprocessing.sequence.pad_sequences(X_train,\n",
    "                                                        value=word_to_index[\"<PAD>\"],\n",
    "                                                        padding='pre',\n",
    "                                                        maxlen=maxlen)\n",
    "\n",
    "X_test = keras.preprocessing.sequence.pad_sequences(X_test,\n",
    "                                                       value=word_to_index[\"<PAD>\"],\n",
    "                                                       padding='pre',\n",
    "                                                       maxlen=maxlen)"
   ]
  },
  {
   "cell_type": "markdown",
   "metadata": {},
   "source": [
    "### validation set 구성"
   ]
  },
  {
   "cell_type": "code",
   "execution_count": 5,
   "metadata": {},
   "outputs": [
    {
     "name": "stdout",
     "output_type": "stream",
     "text": [
      "(126182, 41)\n",
      "(126182,)\n"
     ]
    }
   ],
   "source": [
    "# 학습 데이터 중 20000개를 validation set으로 사용\n",
    "X_val = X_train[:20000]   \n",
    "y_val = y_train[:20000]\n",
    "\n",
    "partial_X_train = X_train[20000:]  \n",
    "partial_y_train = y_train[20000:]\n",
    "\n",
    "print(partial_X_train.shape)\n",
    "print(partial_y_train.shape)"
   ]
  },
  {
   "cell_type": "markdown",
   "metadata": {},
   "source": [
    "### 모델 구성"
   ]
  },
  {
   "cell_type": "code",
   "execution_count": 10,
   "metadata": {},
   "outputs": [
    {
     "name": "stdout",
     "output_type": "stream",
     "text": [
      "Model: \"sequential_4\"\n",
      "_________________________________________________________________\n",
      "Layer (type)                 Output Shape              Param #   \n",
      "=================================================================\n",
      "embedding_3 (Embedding)      (None, None, 200)         2000000   \n",
      "_________________________________________________________________\n",
      "lstm_1 (LSTM)                (None, 8)                 6688      \n",
      "_________________________________________________________________\n",
      "dense_6 (Dense)              (None, 8)                 72        \n",
      "_________________________________________________________________\n",
      "dense_7 (Dense)              (None, 1)                 9         \n",
      "=================================================================\n",
      "Total params: 2,006,769\n",
      "Trainable params: 2,006,769\n",
      "Non-trainable params: 0\n",
      "_________________________________________________________________\n"
     ]
    }
   ],
   "source": [
    "vocab_size = 10000\n",
    "word_vector_dim = 200\n",
    "\n",
    "# LSTM\n",
    "lstm = keras.Sequential()\n",
    "lstm.add(keras.layers.Embedding(vocab_size, word_vector_dim, input_shape=(None,)))\n",
    "lstm.add(keras.layers.LSTM(8))\n",
    "lstm.add(keras.layers.Dense(8, activation='relu'))\n",
    "lstm.add(keras.layers.Dense(1, activation='sigmoid'))\n",
    "\n",
    "lstm.summary()"
   ]
  },
  {
   "cell_type": "code",
   "execution_count": 15,
   "metadata": {},
   "outputs": [
    {
     "name": "stdout",
     "output_type": "stream",
     "text": [
      "Model: \"sequential_7\"\n",
      "_________________________________________________________________\n",
      "Layer (type)                 Output Shape              Param #   \n",
      "=================================================================\n",
      "embedding_6 (Embedding)      (None, None, 200)         2000000   \n",
      "_________________________________________________________________\n",
      "conv1d_4 (Conv1D)            (None, None, 16)          22416     \n",
      "_________________________________________________________________\n",
      "max_pooling1d_2 (MaxPooling1 (None, None, 16)          0         \n",
      "_________________________________________________________________\n",
      "conv1d_5 (Conv1D)            (None, None, 16)          1808      \n",
      "_________________________________________________________________\n",
      "global_max_pooling1d_3 (Glob (None, 16)                0         \n",
      "_________________________________________________________________\n",
      "dense_12 (Dense)             (None, 16)                272       \n",
      "_________________________________________________________________\n",
      "dense_13 (Dense)             (None, 1)                 17        \n",
      "=================================================================\n",
      "Total params: 2,024,513\n",
      "Trainable params: 2,024,513\n",
      "Non-trainable params: 0\n",
      "_________________________________________________________________\n"
     ]
    }
   ],
   "source": [
    "# 1-D CNN\n",
    "cnn = keras.Sequential()\n",
    "cnn.add(keras.layers.Embedding(vocab_size, word_vector_dim, input_shape=(None,))) \n",
    "cnn.add(keras.layers.Conv1D(16, 7, activation='relu'))\n",
    "cnn.add(keras.layers.MaxPooling1D(5))\n",
    "cnn.add(keras.layers.Conv1D(16, 7, activation='relu'))\n",
    "cnn.add(keras.layers.GlobalMaxPooling1D())\n",
    "cnn.add(keras.layers.Dense(16, activation='relu'))\n",
    "cnn.add(keras.layers.Dense(1, activation='sigmoid'))\n",
    "\n",
    "cnn.summary()"
   ]
  },
  {
   "cell_type": "code",
   "execution_count": 12,
   "metadata": {
    "scrolled": true
   },
   "outputs": [
    {
     "name": "stdout",
     "output_type": "stream",
     "text": [
      "Model: \"sequential_6\"\n",
      "_________________________________________________________________\n",
      "Layer (type)                 Output Shape              Param #   \n",
      "=================================================================\n",
      "embedding_5 (Embedding)      (None, None, 200)         2000000   \n",
      "_________________________________________________________________\n",
      "global_average_pooling1d (Gl (None, 200)               0         \n",
      "_________________________________________________________________\n",
      "dense_10 (Dense)             (None, 8)                 1608      \n",
      "_________________________________________________________________\n",
      "dense_11 (Dense)             (None, 1)                 9         \n",
      "=================================================================\n",
      "Total params: 2,001,617\n",
      "Trainable params: 2,001,617\n",
      "Non-trainable params: 0\n",
      "_________________________________________________________________\n"
     ]
    }
   ],
   "source": [
    "# one GlobalAveragePooling layer\n",
    "simple = keras.Sequential()\n",
    "simple.add(keras.layers.Embedding(vocab_size, word_vector_dim, input_shape=(None,)))\n",
    "simple.add(keras.layers.GlobalAveragePooling1D())\n",
    "simple.add(keras.layers.Dense(8, activation='relu'))\n",
    "simple.add(keras.layers.Dense(1, activation='sigmoid'))\n",
    "\n",
    "simple.summary()"
   ]
  },
  {
   "cell_type": "markdown",
   "metadata": {},
   "source": [
    "### 모델 훈련 LSTM"
   ]
  },
  {
   "cell_type": "code",
   "execution_count": 13,
   "metadata": {},
   "outputs": [
    {
     "name": "stdout",
     "output_type": "stream",
     "text": [
      "Epoch 1/5\n",
      "247/247 [==============================] - 8s 33ms/step - loss: 0.4404 - accuracy: 0.8105 - val_loss: 0.3479 - val_accuracy: 0.8475\n",
      "Epoch 2/5\n",
      "247/247 [==============================] - 8s 33ms/step - loss: 0.3225 - accuracy: 0.8631 - val_loss: 0.3349 - val_accuracy: 0.8555\n",
      "Epoch 3/5\n",
      "247/247 [==============================] - 8s 34ms/step - loss: 0.2933 - accuracy: 0.8757 - val_loss: 0.3377 - val_accuracy: 0.8562\n",
      "Epoch 4/5\n",
      "247/247 [==============================] - 8s 33ms/step - loss: 0.2699 - accuracy: 0.8864 - val_loss: 0.3387 - val_accuracy: 0.8575\n",
      "Epoch 5/5\n",
      "247/247 [==============================] - 8s 33ms/step - loss: 0.2467 - accuracy: 0.8966 - val_loss: 0.3487 - val_accuracy: 0.8569\n"
     ]
    }
   ],
   "source": [
    "epochs=5\n",
    "\n",
    "lstm.compile(optimizer='adam',\n",
    "              loss='binary_crossentropy',\n",
    "              metrics=['accuracy'])\n",
    "\n",
    "history_lstm = lstm.fit(partial_X_train,\n",
    "                    partial_y_train,\n",
    "                    epochs=epochs,\n",
    "                    batch_size=512,\n",
    "                    validation_data=(X_val, y_val),\n",
    "                    verbose=1)"
   ]
  },
  {
   "cell_type": "markdown",
   "metadata": {},
   "source": [
    "### 모델 훈련 1-D CNN"
   ]
  },
  {
   "cell_type": "code",
   "execution_count": 16,
   "metadata": {},
   "outputs": [
    {
     "name": "stdout",
     "output_type": "stream",
     "text": [
      "Epoch 1/3\n",
      "247/247 [==============================] - 9s 38ms/step - loss: 0.4332 - accuracy: 0.7926 - val_loss: 0.3384 - val_accuracy: 0.8540\n",
      "Epoch 2/3\n",
      "247/247 [==============================] - 9s 37ms/step - loss: 0.2920 - accuracy: 0.8777 - val_loss: 0.3247 - val_accuracy: 0.8604\n",
      "Epoch 3/3\n",
      "247/247 [==============================] - 9s 38ms/step - loss: 0.2237 - accuracy: 0.9119 - val_loss: 0.3453 - val_accuracy: 0.8559\n"
     ]
    }
   ],
   "source": [
    "cnn.compile(optimizer='adam',\n",
    "              loss='binary_crossentropy',\n",
    "              metrics=['accuracy'])\n",
    "              \n",
    "epochs = 3\n",
    "\n",
    "history_cnn = cnn.fit(partial_X_train,\n",
    "                    partial_y_train,\n",
    "                    epochs=epochs,\n",
    "                    batch_size=512,\n",
    "                    validation_data=(X_val, y_val),\n",
    "                    verbose=1)"
   ]
  },
  {
   "cell_type": "markdown",
   "metadata": {},
   "source": [
    "### 모델 훈련 GlobalAveragePooling1D layer"
   ]
  },
  {
   "cell_type": "code",
   "execution_count": 17,
   "metadata": {},
   "outputs": [
    {
     "name": "stdout",
     "output_type": "stream",
     "text": [
      "Epoch 1/3\n",
      "247/247 [==============================] - 8s 30ms/step - loss: 0.5335 - accuracy: 0.7476 - val_loss: 0.3854 - val_accuracy: 0.8382\n",
      "Epoch 2/3\n",
      "247/247 [==============================] - 8s 33ms/step - loss: 0.3611 - accuracy: 0.8476 - val_loss: 0.3603 - val_accuracy: 0.8442\n",
      "Epoch 3/3\n",
      "247/247 [==============================] - 8s 33ms/step - loss: 0.3359 - accuracy: 0.8587 - val_loss: 0.3522 - val_accuracy: 0.8490\n"
     ]
    }
   ],
   "source": [
    "simple.compile(optimizer='adam',\n",
    "              loss='binary_crossentropy',\n",
    "              metrics=['accuracy'])\n",
    "\n",
    "history_simple = simple.fit(partial_X_train,\n",
    "                    partial_y_train,\n",
    "                    epochs=epochs,\n",
    "                    batch_size=512,\n",
    "                    validation_data=(X_val, y_val),\n",
    "                    verbose=1)"
   ]
  },
  {
   "cell_type": "markdown",
   "metadata": {},
   "source": [
    "### 모델 평가"
   ]
  },
  {
   "cell_type": "code",
   "execution_count": 18,
   "metadata": {},
   "outputs": [
    {
     "name": "stdout",
     "output_type": "stream",
     "text": [
      "LSTM\n",
      "1537/1537 - 7s - loss: 0.3565 - accuracy: 0.8516\n",
      "[0.35653436183929443, 0.8515775799751282]\n",
      "-------------------------------------------------------------------------\n",
      "1-D CNN\n",
      "1537/1537 - 8s - loss: 0.3547 - accuracy: 0.8526\n",
      "[0.35466399788856506, 0.8525744080543518]\n",
      "-------------------------------------------------------------------------\n",
      "GlobalMaxPooling1D layer\n",
      "1537/1537 - 4s - loss: 0.3655 - accuracy: 0.8442\n",
      "[0.3655129671096802, 0.8441931009292603]\n"
     ]
    }
   ],
   "source": [
    "# LSTM\n",
    "print(\"LSTM\")\n",
    "results_lstm = lstm.evaluate(X_test, y_test, verbose=2)\n",
    "print(results_lstm)\n",
    "print(\"-------------------------------------------------------------------------\")\n",
    "\n",
    "# 1-D CNN\n",
    "print(\"1-D CNN\")\n",
    "results_cnn = cnn.evaluate(X_test, y_test, verbose=2)\n",
    "print(results_cnn)\n",
    "print(\"-------------------------------------------------------------------------\")\n",
    "\n",
    "# GlobalAveragePooling1D\n",
    "print(\"GlobalAveragePooling1D layer\")\n",
    "results_simple = simple.evaluate(X_test, y_test, verbose=2)\n",
    "print(results_simple)"
   ]
  },
  {
   "cell_type": "markdown",
   "metadata": {},
   "source": [
    "### 그래프 시각화 LSTM"
   ]
  },
  {
   "cell_type": "code",
   "execution_count": 19,
   "metadata": {},
   "outputs": [
    {
     "data": {
      "image/png": "[encoded data removed]",
      "text/plain": [
       "<Figure size 432x288 with 1 Axes>"
      ]
     },
     "metadata": {
      "needs_background": "light"
     },
     "output_type": "display_data"
    },
    {
     "data": {
      "image/png": "[encoded data removed]",
      "text/plain": [
       "<Figure size 432x288 with 1 Axes>"
      ]
     },
     "metadata": {
      "needs_background": "light"
     },
     "output_type": "display_data"
    }
   ],
   "source": [
    "history_dict = history_lstm.history\n",
    "\n",
    "acc = history_dict['accuracy']\n",
    "val_acc = history_dict['val_accuracy']\n",
    "loss = history_dict['loss']\n",
    "val_loss = history_dict['val_loss']\n",
    "\n",
    "epochs = range(1, len(acc) + 1)\n",
    "\n",
    "plt.plot(epochs, loss, 'bo', label='Training loss')\n",
    "plt.plot(epochs, val_loss, 'b', label='Validation loss')\n",
    "\n",
    "plt.title('Training and validation loss')\n",
    "plt.xlabel('Epochs')\n",
    "plt.ylabel('Loss')\n",
    "plt.legend()\n",
    "\n",
    "plt.show()\n",
    "\n",
    "plt.clf()   # 그림을 초기화\n",
    "\n",
    "plt.plot(epochs, acc, 'bo', label='Training acc')\n",
    "plt.plot(epochs, val_acc, 'b', label='Validation acc')\n",
    "plt.title('Training and validation accuracy')\n",
    "plt.xlabel('Epochs')\n",
    "plt.ylabel('Accuracy')\n",
    "plt.legend()\n",
    "\n",
    "plt.show()"
   ]
  },
  {
   "cell_type": "markdown",
   "metadata": {},
   "source": [
    "### 그래프 시각화 1-D CNN"
   ]
  },
  {
   "cell_type": "code",
   "execution_count": 20,
   "metadata": {},
   "outputs": [
    {
     "data": {
      "image/png": "[encoded data removed]",
      "text/plain": [
       "<Figure size 432x288 with 1 Axes>"
      ]
     },
     "metadata": {
      "needs_background": "light"
     },
     "output_type": "display_data"
    },
    {
     "data": {
      "image/png": "[encoded data removed]",
      "text/plain": [
       "<Figure size 432x288 with 1 Axes>"
      ]
     },
     "metadata": {
      "needs_background": "light"
     },
     "output_type": "display_data"
    }
   ],
   "source": [
    "history_dict = history_cnn.history\n",
    "\n",
    "acc = history_dict['accuracy']\n",
    "val_acc = history_dict['val_accuracy']\n",
    "loss = history_dict['loss']\n",
    "val_loss = history_dict['val_loss']\n",
    "\n",
    "epochs = range(1, len(acc) + 1)\n",
    "\n",
    "plt.plot(epochs, loss, 'bo', label='Training loss')\n",
    "plt.plot(epochs, val_loss, 'b', label='Validation loss')\n",
    "\n",
    "plt.title('Training and validation loss')\n",
    "plt.xlabel('Epochs')\n",
    "plt.ylabel('Loss')\n",
    "plt.legend()\n",
    "\n",
    "plt.show()\n",
    "\n",
    "plt.clf()   # 그림을 초기화\n",
    "\n",
    "plt.plot(epochs, acc, 'bo', label='Training acc')\n",
    "plt.plot(epochs, val_acc, 'b', label='Validation acc')\n",
    "plt.title('Training and validation accuracy')\n",
    "plt.xlabel('Epochs')\n",
    "plt.ylabel('Accuracy')\n",
    "plt.legend()\n",
    "\n",
    "plt.show()"
   ]
  },
  {
   "cell_type": "markdown",
   "metadata": {},
   "source": [
    "### 그래프 시각화 GlobalAveragePooling1D layer"
   ]
  },
  {
   "cell_type": "code",
   "execution_count": 21,
   "metadata": {},
   "outputs": [
    {
     "data": {
      "image/png": "[encoded data removed]",
      "text/plain": [
       "<Figure size 432x288 with 1 Axes>"
      ]
     },
     "metadata": {
      "needs_background": "light"
     },
     "output_type": "display_data"
    },
    {
     "data": {
      "image/png": "[encoded data removed]",
      "text/plain": [
       "<Figure size 432x288 with 1 Axes>"
      ]
     },
     "metadata": {
      "needs_background": "light"
     },
     "output_type": "display_data"
    }
   ],
   "source": [
    "history_dict = history_simple.history\n",
    "\n",
    "acc = history_dict['accuracy']\n",
    "val_acc = history_dict['val_accuracy']\n",
    "loss = history_dict['loss']\n",
    "val_loss = history_dict['val_loss']\n",
    "\n",
    "epochs = range(1, len(acc) + 1)\n",
    "\n",
    "plt.plot(epochs, loss, 'bo', label='Training loss')\n",
    "plt.plot(epochs, val_loss, 'b', label='Validation loss')\n",
    "\n",
    "plt.title('Training and validation loss')\n",
    "plt.xlabel('Epochs')\n",
    "plt.ylabel('Loss')\n",
    "plt.legend()\n",
    "\n",
    "plt.show()\n",
    "\n",
    "plt.clf()   # 그림을 초기화\n",
    "\n",
    "plt.plot(epochs, acc, 'bo', label='Training acc')\n",
    "plt.plot(epochs, val_acc, 'b', label='Validation acc')\n",
    "plt.title('Training and validation accuracy')\n",
    "plt.xlabel('Epochs')\n",
    "plt.ylabel('Accuracy')\n",
    "plt.legend()\n",
    "\n",
    "plt.show()"
   ]
  },
  {
   "cell_type": "markdown",
   "metadata": {},
   "source": [
    "### Embedding 레이어 분석\n",
    "**순서**\n",
    "1. LSTM\n",
    "2. 1-D CNN\n",
    "3. GlobalAveragePooling1D layer"
   ]
  },
  {
   "cell_type": "code",
   "execution_count": 22,
   "metadata": {},
   "outputs": [],
   "source": [
    "embedding_lstm = lstm.layers[0]\n",
    "weights_lstm = embedding_lstm.get_weights()[0]\n",
    "\n",
    "embedding_cnn = cnn.layers[0]\n",
    "weights_cnn = embedding_cnn.get_weights()[0]\n",
    "\n",
    "embedding_simple = simple.layers[0]\n",
    "weights_simple = embedding_simple.get_weights()[0]\n",
    "\n",
    "word2vec_file_path_lstm = os.getenv('HOME')+'/aiffel/sentiment_classification/word2vec_lstm.txt'\n",
    "f = open(word2vec_file_path_lstm, 'w')\n",
    "f.write('{} {}\\n'.format(vocab_size-4, word_vector_dim))\n",
    "\n",
    "vectors = lstm.get_weights()[0]\n",
    "for i in range(4,vocab_size):\n",
    "    f.write('{} {}\\n'.format(index_to_word[i], ' '.join(map(str, list(vectors[i, :])))))\n",
    "f.close()\n",
    "\n",
    "word2vec_file_path_cnn = os.getenv('HOME')+'/aiffel/sentiment_classification/word2vec_cnn.txt'\n",
    "f = open(word2vec_file_path_cnn, 'w')\n",
    "f.write('{} {}\\n'.format(vocab_size-4, word_vector_dim))\n",
    "\n",
    "vectors = cnn.get_weights()[0]\n",
    "for i in range(4,vocab_size):\n",
    "    f.write('{} {}\\n'.format(index_to_word[i], ' '.join(map(str, list(vectors[i, :])))))\n",
    "f.close()\n",
    "\n",
    "word2vec_file_path_simple = os.getenv('HOME')+'/aiffel/sentiment_classification/word2vec_simple.txt'\n",
    "f = open(word2vec_file_path_simple, 'w')\n",
    "f.write('{} {}\\n'.format(vocab_size-4, word_vector_dim))\n",
    "\n",
    "vectors = simple.get_weights()[0]\n",
    "for i in range(4,vocab_size):\n",
    "    f.write('{} {}\\n'.format(index_to_word[i], ' '.join(map(str, list(vectors[i, :])))))\n",
    "f.close()\n",
    "\n",
    "word_vectors_lstm = Word2VecKeyedVectors.load_word2vec_format(word2vec_file_path_lstm, binary=False)\n",
    "word_vectors_cnn = Word2VecKeyedVectors.load_word2vec_format(word2vec_file_path_cnn, binary=False)\n",
    "word_vectors_simple = Word2VecKeyedVectors.load_word2vec_format(word2vec_file_path_simple, binary=False)"
   ]
  },
  {
   "cell_type": "code",
   "execution_count": 23,
   "metadata": {},
   "outputs": [
    {
     "data": {
      "text/plain": [
       "[('유지태', 0.6178333759307861),\n",
       " ('시나리오', 0.6076107025146484),\n",
       " ('발휘', 0.5772173404693604),\n",
       " ('영상', 0.5709173679351807),\n",
       " ('맞', 0.5621339082717896),\n",
       " ('송혜교', 0.5582455396652222),\n",
       " ('랑', 0.5529106855392456),\n",
       " ('보이', 0.5524845123291016),\n",
       " ('팬', 0.550761878490448),\n",
       " ('싸이코', 0.5461724996566772)]"
      ]
     },
     "execution_count": 23,
     "metadata": {},
     "output_type": "execute_result"
    }
   ],
   "source": [
    "word_vectors_lstm.similar_by_word(\"배우\")"
   ]
  },
  {
   "cell_type": "code",
   "execution_count": 24,
   "metadata": {},
   "outputs": [
    {
     "data": {
      "text/plain": [
       "[('죤', 0.38370412588119507),\n",
       " ('으려나', 0.3591236472129822),\n",
       " ('안녕', 0.3566408157348633),\n",
       " ('역', 0.35330629348754883),\n",
       " ('퇴마', 0.34968677163124084),\n",
       " ('렌', 0.34868818521499634),\n",
       " ('없', 0.34839075803756714),\n",
       " ('아님', 0.3428184390068054),\n",
       " ('>.', 0.3426065742969513),\n",
       " ('츄', 0.3389517664909363)]"
      ]
     },
     "execution_count": 24,
     "metadata": {},
     "output_type": "execute_result"
    }
   ],
   "source": [
    "word_vectors_cnn.similar_by_word(\"배우\")"
   ]
  },
  {
   "cell_type": "code",
   "execution_count": 25,
   "metadata": {},
   "outputs": [
    {
     "data": {
      "text/plain": [
       "[('아서', 0.8016413450241089),\n",
       " ('너무', 0.801230788230896),\n",
       " ('더', 0.7889404892921448),\n",
       " ('.', 0.7744522094726562),\n",
       " ('것', 0.7599953413009644),\n",
       " ('하', 0.7595878839492798),\n",
       " ('제', 0.7595381736755371),\n",
       " ('이렇게', 0.7588602304458618),\n",
       " ('로', 0.7498327493667603),\n",
       " ('같', 0.7475125789642334)]"
      ]
     },
     "execution_count": 25,
     "metadata": {},
     "output_type": "execute_result"
    }
   ],
   "source": [
    "word_vectors_simple.similar_by_word(\"배우\")"
   ]
  },
  {
   "cell_type": "markdown",
   "metadata": {},
   "source": [
    "### 한국어 Word2Vec 적용"
   ]
  },
  {
   "cell_type": "code",
   "execution_count": 26,
   "metadata": {},
   "outputs": [
    {
     "name": "stdout",
     "output_type": "stream",
     "text": [
      "[ 0.16752283 -1.4403394   2.8093226  -2.2942572   0.13433917 -1.0179986\n",
      " -1.6604831   1.4500121   0.26260966 -0.9908764  -0.86152965  0.2907808\n",
      " -0.71542895  0.11167914 -0.03550755  1.0984114  -1.266807   -1.73354\n",
      "  1.6347289  -0.6296538  -0.4523188  -0.5940362  -0.07651725 -1.8494816\n",
      " -1.3535714  -2.3276203   1.3144854   1.9779409  -0.4396118   1.5602161\n",
      "  1.4577893   1.1083381   0.65025765  0.51086545  0.1116109   0.46636197\n",
      " -0.50944877 -0.5409319  -1.0953526  -2.4960513  -0.28755617 -0.7519181\n",
      "  0.6840282  -0.69424474 -0.24744606  0.03568178  3.426236   -2.2075064\n",
      " -0.38595662 -0.11880949  1.7459064  -1.8460087   1.8704582  -0.8907359\n",
      "  0.258816    0.46029854  2.7752008   0.83754796 -1.1874206   0.22281261\n",
      "  2.1227393   0.64509875 -2.9229567   1.8654289  -0.32230487 -1.6857306\n",
      "  0.39045802  0.935903    0.02172696  0.0644962   0.9145913  -0.95547587\n",
      " -1.2014496  -0.16720626  0.86859787  0.07173832  0.60098696  0.5265061\n",
      "  1.744407   -0.01287265 -1.8676045  -0.30340263  1.6570233  -1.6057646\n",
      " -0.5974502  -0.4333903  -0.42364794 -0.22590072 -1.287298    2.575613\n",
      "  1.1819437  -1.4708831  -0.06213734  1.4932028  -0.77028203  0.10911041\n",
      " -1.4376347  -0.17732285  0.40324122  0.58457375 -1.7288164  -1.3531774\n",
      "  2.1099668  -2.1753383   0.70452553  0.7564847  -0.2853594  -2.2756026\n",
      " -1.5135059  -1.0090587   1.6956885  -4.3892484   0.40522134  1.1383907\n",
      "  0.8675943  -0.71887    -2.183344   -0.94228035  1.4405013   0.10398538\n",
      "  1.4842703  -2.1172695  -1.2553492  -1.027058   -0.91286653 -1.5840228\n",
      "  0.40014455 -1.9178793   2.0758982  -0.4492585   2.600914   -1.0651177\n",
      "  0.3085886   2.2858596   2.031188    1.1228061  -0.4241463  -0.8984276\n",
      "  1.5775079   1.375866    0.65672606  1.5157895  -0.2591533   0.12122362\n",
      " -2.002886   -2.4956489  -0.31128073  3.6452951   1.1940784  -0.19789606\n",
      " -1.1892436  -2.166677   -1.6949068  -0.04891506 -1.0742688  -0.7870227\n",
      " -0.60343325 -0.30573794 -0.65736485  0.56394255 -0.7284615   1.0965234\n",
      "  0.15493485  0.38409495 -2.056695    0.51320124 -0.01231898 -0.06928851\n",
      "  0.18692942  2.409596    0.4157542   0.32584712  0.04806245 -0.787956\n",
      " -0.74002236  1.1421252  -2.1025956  -1.8587397   0.21269812  0.20395787\n",
      " -1.8000438  -0.48295444  1.8755666  -0.5706804   0.7089433  -0.2579657\n",
      " -0.43446818  0.63479984 -0.51427615  3.0392275   0.7882852   0.10229518\n",
      "  0.30560106  2.3750932   0.87071246 -1.1083885   0.53167546 -0.11499456\n",
      "  0.7529078   0.30495274]\n",
      "[('가르치', 0.7075916528701782),\n",
      " ('익히', 0.5947338342666626),\n",
      " ('공부', 0.5693216919898987),\n",
      " ('영화배우', 0.523245096206665),\n",
      " ('연출가', 0.509418249130249),\n",
      " ('후배', 0.4982924461364746),\n",
      " ('연극배우', 0.47326862812042236),\n",
      " ('연마', 0.4723285436630249),\n",
      " ('선보이', 0.471835732460022),\n",
      " ('무용가', 0.46976548433303833)]\n"
     ]
    }
   ],
   "source": [
    "import pprint\n",
    "\n",
    "path = os.getenv('HOME')+'/aiffel/sentiment_classification/ko.bin'\n",
    "ko_vec = Word2Vec.load(path)\n",
    "\n",
    "print(ko_vec.wv[\"배우\"]) # ko_vec[\"배우\"]방식은 deprecated라고 한다.\n",
    "pprint.pprint(ko_vec.wv.most_similar(\"배우\")) #마찬가지로 ko_vec.most_similar() 방식도 deprecated. 지양하자.\n",
    "\n",
    "ko_vec = ko_vec.wv # ko_vec.wv대신 ko_vec을 사용하면 아래에서도 deprecated 경고 발생"
   ]
  },
  {
   "cell_type": "code",
   "execution_count": 27,
   "metadata": {},
   "outputs": [],
   "source": [
    "vocab_size_ko_vec = 10000\n",
    "word_vector_dim_ko_vec = 200\n",
    "\n",
    "embedding_matrix = np.random.rand(vocab_size_ko_vec, word_vector_dim_ko_vec)\n",
    "\n",
    "for i in range(4,vocab_size_ko_vec):\n",
    "    if index_to_word[i] in ko_vec:\n",
    "        embedding_matrix[i] = ko_vec[index_to_word[i]]"
   ]
  },
  {
   "cell_type": "markdown",
   "metadata": {},
   "source": [
    "### 모델에 Word2Vec 적용"
   ]
  },
  {
   "cell_type": "code",
   "execution_count": 28,
   "metadata": {},
   "outputs": [
    {
     "name": "stdout",
     "output_type": "stream",
     "text": [
      "Model: \"sequential_8\"\n",
      "_________________________________________________________________\n",
      "Layer (type)                 Output Shape              Param #   \n",
      "=================================================================\n",
      "embedding_7 (Embedding)      (None, 41, 200)           2000000   \n",
      "_________________________________________________________________\n",
      "lstm_2 (LSTM)                (None, 128)               168448    \n",
      "_________________________________________________________________\n",
      "dense_14 (Dense)             (None, 128)               16512     \n",
      "_________________________________________________________________\n",
      "dense_15 (Dense)             (None, 1)                 129       \n",
      "=================================================================\n",
      "Total params: 2,185,089\n",
      "Trainable params: 2,185,089\n",
      "Non-trainable params: 0\n",
      "_________________________________________________________________\n"
     ]
    }
   ],
   "source": [
    "vocab_size = 10000\n",
    "word_vector_dim = 200 #https://github.com/Kyubyong/wordvectors 참고. 한국어 word2vec는 벡터 사이즈가 200이다.\n",
    "\n",
    "lstm = keras.Sequential()\n",
    "lstm.add(keras.layers.Embedding(vocab_size, \n",
    "                                 word_vector_dim, \n",
    "                                 embeddings_initializer=Constant(embedding_matrix),\n",
    "                                 input_length=maxlen, \n",
    "                                 trainable=True))\n",
    "lstm.add(keras.layers.LSTM(128))\n",
    "lstm.add(keras.layers.Dense(128, activation='relu'))\n",
    "lstm.add(keras.layers.Dense(1, activation='sigmoid'))\n",
    "\n",
    "lstm.summary()"
   ]
  },
  {
   "cell_type": "code",
   "execution_count": 29,
   "metadata": {},
   "outputs": [
    {
     "name": "stdout",
     "output_type": "stream",
     "text": [
      "Model: \"sequential_9\"\n",
      "_________________________________________________________________\n",
      "Layer (type)                 Output Shape              Param #   \n",
      "=================================================================\n",
      "embedding_8 (Embedding)      (None, 41, 200)           2000000   \n",
      "_________________________________________________________________\n",
      "dropout (Dropout)            (None, 41, 200)           0         \n",
      "_________________________________________________________________\n",
      "conv1d_6 (Conv1D)            (None, 35, 512)           717312    \n",
      "_________________________________________________________________\n",
      "max_pooling1d_3 (MaxPooling1 (None, 7, 512)            0         \n",
      "_________________________________________________________________\n",
      "conv1d_7 (Conv1D)            (None, 1, 512)            1835520   \n",
      "_________________________________________________________________\n",
      "global_max_pooling1d_4 (Glob (None, 512)               0         \n",
      "_________________________________________________________________\n",
      "dense_16 (Dense)             (None, 256)               131328    \n",
      "_________________________________________________________________\n",
      "dense_17 (Dense)             (None, 1)                 257       \n",
      "=================================================================\n",
      "Total params: 4,684,417\n",
      "Trainable params: 4,684,417\n",
      "Non-trainable params: 0\n",
      "_________________________________________________________________\n"
     ]
    }
   ],
   "source": [
    "cnn = keras.Sequential()\n",
    "cnn.add(keras.layers.Embedding(vocab_size, \n",
    "                                 word_vector_dim, \n",
    "                                 embeddings_initializer=Constant(embedding_matrix),\n",
    "                                 input_length=maxlen, \n",
    "                                 trainable=True))\n",
    "cnn.add(keras.layers.Dropout(0.5))\n",
    "cnn.add(keras.layers.Conv1D(512, 7, activation='relu'))\n",
    "cnn.add(keras.layers.MaxPooling1D(5))\n",
    "cnn.add(keras.layers.Conv1D(512, 7, activation='relu'))\n",
    "cnn.add(keras.layers.GlobalMaxPooling1D())\n",
    "cnn.add(keras.layers.Dense(256, activation='relu'))\n",
    "cnn.add(keras.layers.Dense(1, activation='sigmoid'))\n",
    "\n",
    "cnn.summary()"
   ]
  },
  {
   "cell_type": "code",
   "execution_count": 60,
   "metadata": {
    "scrolled": true
   },
   "outputs": [
    {
     "name": "stdout",
     "output_type": "stream",
     "text": [
      "Model: \"sequential_19\"\n",
      "_________________________________________________________________\n",
      "Layer (type)                 Output Shape              Param #   \n",
      "=================================================================\n",
      "embedding_18 (Embedding)     (None, 41, 200)           2000000   \n",
      "_________________________________________________________________\n",
      "global_average_pooling1d_10  (None, 200)               0         \n",
      "_________________________________________________________________\n",
      "dense_35 (Dense)             (None, 128)               25728     \n",
      "_________________________________________________________________\n",
      "dropout_9 (Dropout)          (None, 128)               0         \n",
      "_________________________________________________________________\n",
      "dense_36 (Dense)             (None, 1)                 129       \n",
      "=================================================================\n",
      "Total params: 2,025,857\n",
      "Trainable params: 2,025,857\n",
      "Non-trainable params: 0\n",
      "_________________________________________________________________\n"
     ]
    }
   ],
   "source": [
    "simple = keras.Sequential()\n",
    "simple.add(keras.layers.Embedding(vocab_size, \n",
    "                                 word_vector_dim, \n",
    "                                 embeddings_initializer=Constant(embedding_matrix),\n",
    "                                 input_length=maxlen, \n",
    "                                 trainable=True))\n",
    "\n",
    "simple.add(keras.layers.GlobalAveragePooling1D())\n",
    "simple.add(keras.layers.Dense(128, activation='relu'))\n",
    "simple.add(keras.layers.Dropout(0.1))\n",
    "simple.add(keras.layers.Dense(1, activation='sigmoid'))\n",
    "\n",
    "simple.summary()"
   ]
  },
  {
   "cell_type": "markdown",
   "metadata": {},
   "source": [
    "### 모델 훈련 LSTM"
   ]
  },
  {
   "cell_type": "code",
   "execution_count": 33,
   "metadata": {},
   "outputs": [
    {
     "name": "stdout",
     "output_type": "stream",
     "text": [
      "Epoch 1/4\n",
      "247/247 [==============================] - 12s 49ms/step - loss: 0.4464 - accuracy: 0.7849 - val_loss: 0.3962 - val_accuracy: 0.8221\n",
      "Epoch 2/4\n",
      "247/247 [==============================] - 12s 49ms/step - loss: 0.3227 - accuracy: 0.8605 - val_loss: 0.3268 - val_accuracy: 0.8580\n",
      "Epoch 3/4\n",
      "247/247 [==============================] - 12s 47ms/step - loss: 0.2788 - accuracy: 0.8833 - val_loss: 0.3204 - val_accuracy: 0.8616\n",
      "Epoch 4/4\n",
      "247/247 [==============================] - 11s 45ms/step - loss: 0.2477 - accuracy: 0.8981 - val_loss: 0.3194 - val_accuracy: 0.8633\n"
     ]
    }
   ],
   "source": [
    "lstm.compile(optimizer='adam',\n",
    "              loss='binary_crossentropy',\n",
    "              metrics=['accuracy'])\n",
    "              \n",
    "epochs = 4\n",
    "\n",
    "history_lstm = lstm.fit(partial_X_train,\n",
    "                    partial_y_train,\n",
    "                    epochs=epochs,\n",
    "                    batch_size=512,\n",
    "                    validation_data=(X_val, y_val),\n",
    "                    verbose=1)"
   ]
  },
  {
   "cell_type": "markdown",
   "metadata": {},
   "source": [
    "### 모델 훈련 1-D CNN"
   ]
  },
  {
   "cell_type": "code",
   "execution_count": 34,
   "metadata": {},
   "outputs": [
    {
     "name": "stdout",
     "output_type": "stream",
     "text": [
      "Epoch 1/10\n",
      "247/247 [==============================] - 26s 104ms/step - loss: 0.6642 - accuracy: 0.6691 - val_loss: 0.4573 - val_accuracy: 0.7849\n",
      "Epoch 2/10\n",
      "247/247 [==============================] - 15s 60ms/step - loss: 0.4503 - accuracy: 0.7866 - val_loss: 0.3811 - val_accuracy: 0.8305\n",
      "Epoch 3/10\n",
      "247/247 [==============================] - 15s 59ms/step - loss: 0.3898 - accuracy: 0.8229 - val_loss: 0.3512 - val_accuracy: 0.8475\n",
      "Epoch 4/10\n",
      "247/247 [==============================] - 14s 57ms/step - loss: 0.3547 - accuracy: 0.8416 - val_loss: 0.3398 - val_accuracy: 0.8524\n",
      "Epoch 5/10\n",
      "247/247 [==============================] - 13s 54ms/step - loss: 0.3296 - accuracy: 0.8553 - val_loss: 0.3321 - val_accuracy: 0.8534\n",
      "Epoch 6/10\n",
      "247/247 [==============================] - 14s 58ms/step - loss: 0.3086 - accuracy: 0.8650 - val_loss: 0.3261 - val_accuracy: 0.8572\n",
      "Epoch 7/10\n",
      "247/247 [==============================] - 15s 59ms/step - loss: 0.2915 - accuracy: 0.8735 - val_loss: 0.3300 - val_accuracy: 0.8569\n",
      "Epoch 8/10\n",
      "247/247 [==============================] - 14s 56ms/step - loss: 0.2742 - accuracy: 0.8817 - val_loss: 0.3266 - val_accuracy: 0.8579\n",
      "Epoch 9/10\n",
      "247/247 [==============================] - 13s 53ms/step - loss: 0.2621 - accuracy: 0.8887 - val_loss: 0.3279 - val_accuracy: 0.8595\n",
      "Epoch 10/10\n",
      "247/247 [==============================] - 14s 59ms/step - loss: 0.2468 - accuracy: 0.8952 - val_loss: 0.3429 - val_accuracy: 0.8569\n"
     ]
    }
   ],
   "source": [
    "cnn.compile(optimizer='adam',\n",
    "              loss='binary_crossentropy',\n",
    "              metrics=['accuracy'])\n",
    "\n",
    "epochs = 10\n",
    "\n",
    "history_cnn = cnn.fit(partial_X_train,\n",
    "                    partial_y_train,\n",
    "                    epochs=epochs,\n",
    "                    batch_size=512,\n",
    "                    validation_data=(X_val, y_val),\n",
    "                    verbose=1)"
   ]
  },
  {
   "cell_type": "markdown",
   "metadata": {},
   "source": [
    "### 모델 훈련 GlobalAveragePooling1D layer"
   ]
  },
  {
   "cell_type": "code",
   "execution_count": 61,
   "metadata": {},
   "outputs": [
    {
     "name": "stdout",
     "output_type": "stream",
     "text": [
      "Epoch 1/8\n",
      "247/247 [==============================] - 8s 32ms/step - loss: 0.5540 - accuracy: 0.7138 - val_loss: 0.4422 - val_accuracy: 0.8013\n",
      "Epoch 2/8\n",
      "247/247 [==============================] - 8s 32ms/step - loss: 0.4078 - accuracy: 0.8183 - val_loss: 0.3761 - val_accuracy: 0.8381\n",
      "Epoch 3/8\n",
      "247/247 [==============================] - 8s 33ms/step - loss: 0.3615 - accuracy: 0.8428 - val_loss: 0.3550 - val_accuracy: 0.8451\n",
      "Epoch 4/8\n",
      "247/247 [==============================] - 9s 35ms/step - loss: 0.3397 - accuracy: 0.8532 - val_loss: 0.3499 - val_accuracy: 0.8462\n",
      "Epoch 5/8\n",
      "247/247 [==============================] - 8s 32ms/step - loss: 0.3283 - accuracy: 0.8589 - val_loss: 0.3492 - val_accuracy: 0.8454\n",
      "Epoch 6/8\n",
      "247/247 [==============================] - 8s 32ms/step - loss: 0.3199 - accuracy: 0.8633 - val_loss: 0.3443 - val_accuracy: 0.8486\n",
      "Epoch 7/8\n",
      "247/247 [==============================] - 8s 33ms/step - loss: 0.3128 - accuracy: 0.8669 - val_loss: 0.3447 - val_accuracy: 0.8485\n",
      "Epoch 8/8\n",
      "247/247 [==============================] - 8s 34ms/step - loss: 0.3096 - accuracy: 0.8679 - val_loss: 0.3463 - val_accuracy: 0.8472\n"
     ]
    }
   ],
   "source": [
    "simple.compile(optimizer='adam',\n",
    "              loss='binary_crossentropy',\n",
    "              metrics=['accuracy'])\n",
    "\n",
    "epochs = 8\n",
    "\n",
    "history_simple = simple.fit(partial_X_train,\n",
    "                    partial_y_train,\n",
    "                    epochs=epochs,\n",
    "                    batch_size=512,\n",
    "                    validation_data=(X_val, y_val),\n",
    "                    verbose=1)"
   ]
  },
  {
   "cell_type": "markdown",
   "metadata": {},
   "source": [
    "### 모델 평가"
   ]
  },
  {
   "cell_type": "code",
   "execution_count": 40,
   "metadata": {},
   "outputs": [
    {
     "name": "stdout",
     "output_type": "stream",
     "text": [
      "1537/1537 - 6s - loss: 0.3265 - accuracy: 0.8610\n",
      "[0.3265365660190582, 0.8610167503356934]\n"
     ]
    }
   ],
   "source": [
    "# LSTM\n",
    "results_lstm = lstm.evaluate(X_test, y_test, verbose=2)\n",
    "print(results_lstm)"
   ]
  },
  {
   "cell_type": "code",
   "execution_count": 41,
   "metadata": {},
   "outputs": [
    {
     "name": "stdout",
     "output_type": "stream",
     "text": [
      "1537/1537 - 6s - loss: 0.3519 - accuracy: 0.8535\n",
      "[0.35187026858329773, 0.8535102009773254]\n"
     ]
    }
   ],
   "source": [
    "# 1-D CNN\n",
    "results_cnn = cnn.evaluate(X_test, y_test, verbose=2)\n",
    "print(results_cnn)"
   ]
  },
  {
   "cell_type": "code",
   "execution_count": 58,
   "metadata": {},
   "outputs": [
    {
     "name": "stdout",
     "output_type": "stream",
     "text": [
      "1537/1537 - 3s - loss: 0.3552 - accuracy: 0.8460\n",
      "[0.3552466034889221, 0.8459832668304443]\n"
     ]
    }
   ],
   "source": [
    "# GlobalAveragePooling1D\n",
    "results_simple = simple.evaluate(X_test, y_test, verbose=2)\n",
    "print(results_simple)"
   ]
  },
  {
   "cell_type": "markdown",
   "metadata": {},
   "source": [
    "## 회고\n",
    "\n",
    "### 정리\n",
    "\n",
    "텍스트 분석을 통해 리뷰가 긍정인지 부정인지를 분류하는 모델을 만드는 것이 목표였다.\n",
    "\n",
    "처음엔 학습된 워드 벡터를 적용하지 않고, 모델을 구성했다.\n",
    "\n",
    "정확도는 LSTM과 MaxPooling1D 레이어를 하나만 사용해 구성한 모델이 84 퍼센트 대였고, 1-D CNN이 유일하게 85 퍼센트를 넘었다.\n",
    "\n",
    "정확도는 목표로 한 85 퍼센트에 근접하거나 넘었지만, 학습한 벡터들을 확인하기 위해 각각의 모델이 내놓은 벡터 값 중 \"배우\"라는 단어의 벡터 값과 가장 유사한 벡터 값을 출력해보니, 세 모델 모두 전체적으로 \"배우\"와 유사하다고 할 수 있는 단어를 반환하지 못했다.\n",
    "\n",
    "그래서 학습된 워드 임베딩을 적용한 모델을 테스트해봤다. (https://github.com/Kyubyong/wordvectors 에서 다운로드 받을 수 있다.)\n",
    "\n",
    "한국어 Word2Vec 파일을 읽어오고, \"배우\"와 유사한 값을 갖는 벡터들을 출력해보니, \"영화배우\", \"연출가\", \"연극배우\" 등 전반적으로 자체 워드 임베딩의 벡터보다 유사한 단어를 출력하는 걸 확인할 수 있었다.\n",
    "\n",
    "이 벡터값들을 각 모델의 임베딩 레이어에 적용하고 학습과 평가를 해보니 생각과는 다른 결과가 나왔다.\n",
    "\n",
    "같은 조건에서 오히려 테스트 정확도가 낮게 나왔고, 모델들의 hyperparameter값을 조정한 후에야 LSTM 모델만 85 퍼센트를 넘었다.\n",
    "\n",
    "올바른 추론인지는 모르곘지만, 첫 번째 epoch부터 training accuracy와 validation accuracy가 높게 나오고, 2~3번쨰 epoch부터는 training accuracy만 오르고 validation accuracy는 오히려 떨어지는 경향을 보이길래 처음부터 빠르게 학습 데이터에 과적합되는 것인지 궁금해서 1-D CNN 모델에 Dropout 레이어를 추가했더니 1-D CNN 모델도 85 퍼센트를 넘었다. \n",
    "\n",
    "하지만 GlobalMaxPooling1D레이어와 GlobalAveragePooling1D레이어 하나만 적용한 모델은 85 퍼센트의 벽을 넘지 못했다.\n",
    "\n",
    "\n",
    "\n"
   ]
  }
 ],
 "metadata": {
  "kernelspec": {
   "display_name": "aiffel",
   "language": "python",
   "name": "aiffel"
  },
  "language_info": {
   "codemirror_mode": {
    "name": "ipython",
    "version": 3
   },
   "file_extension": ".py",
   "mimetype": "text/x-python",
   "name": "python",
   "nbconvert_exporter": "python",
   "pygments_lexer": "ipython3",
   "version": "3.7.6"
  }
 },
 "nbformat": 4,
 "nbformat_minor": 2
}
